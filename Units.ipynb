{
 "cells": [
  {
   "cell_type": "markdown",
   "metadata": {},
   "source": [
    "<div align=\"center\"><h1> Chapter 1: Prerequisits</h1></div>"
   ]
  },
  {
   "cell_type": "markdown",
   "metadata": {},
   "source": [
    "## Units"
   ]
  },
  {
   "cell_type": "markdown",
   "metadata": {},
   "source": [
    "### Consistency of units"
   ]
  },
  {
   "cell_type": "markdown",
   "metadata": {},
   "source": [
    "Most values that you'll run across as an engineer will consist of a number and a unit. Some do not have a unit because they are a pure number (like pi, π) or a ratio.  In order to solve a problem effectively, all the types of units should be consistent with each other, or should be in the same ''system''. A system of units defines each of the basic unit types with respect to some measurement that can be easily duplicated, so that, for example, 5 ft. is the same length in Australia as it is in the United States. There are five commonly-used base unit types or ''dimensions'' that one might encounter (shown with their abbreviated forms for the purpose of dimensional analysis):"
   ]
  },
  {
   "cell_type": "markdown",
   "metadata": {},
   "source": [
    "* **Length (L)**, or the physical distance between two positions with respect to some standard distance\n",
    "* **Time (t)**, or how long something takes with respect to how long some natural phenomenon takes to occur\n",
    "* **Mass (M)**, a measure of the inertia of a material relative to that of a standard\n",
    "* **Temperature (T)**, a measure of the average kinetic energy of the molecules in a material relative to a standard\n",
    "* **Electric Current (E)**, a measure of the total charge that moves in a certain amount of time"
   ]
  },
  {
   "cell_type": "markdown",
   "metadata": {},
   "source": [
    "**Note**: It would make more commonsense to have **Electric Charge** as a base unit, since current is charge per time, and you may find it convenient to think of charge as the fundamental unit. However, current proved easier to measure very accurately and reproducibly, so the physicists decided it would be their reference.\n",
    "\n",
    "There are several different consistent systems of units. In most of the world (apart from the US and to some extent the UK) the SI system is standard. It is also used in refereed scientific and engineering journals in these two countries. In practice, it is essential for a chemical engineer to be proficient in the SI system, but to be able to use data in units of other systems and to be able to specify designs in the preferred unit system for the job."
   ]
  },
  {
   "cell_type": "markdown",
   "metadata": {},
   "source": [
    "### Units of Common Physical Properties"
   ]
  },
  {
   "cell_type": "markdown",
   "metadata": {},
   "source": [
    "Every system of units has a large number of derived units which are, as the name implies, derived from the base units. These new units are based on the physical definitions of other quantities and involve the combination of different variables. Below is a list of several common derived system properties and the corresponding dimensions ({\\displaystyle {\\dot {=}}}{\\displaystyle {\\dot {=}}} denotes unit equivalence). If you don't know what one of these properties is, you will learn it eventually:"
   ]
  },
  {
   "cell_type": "markdown",
   "metadata": {},
   "source": [
    "\n",
    "| Property  | Dimensions       -| Property              | Dimensions        |\n",
    "|:---------:|-------------------|-----------------------|-------------------|\n",
    "| Mass      | M                 |Length                 | L                 |\n",
    "| Time      | t                 | Temperature           | T                 |\n",
    "| Area      | $L^2$             | Volume                | $ L^3 $           |\n",
    "|Velocity   |$\\frac{L}{t}$      |Acceleration           |$\\frac{L}{t^2}$    |\n",
    "|Force      |$\\frac{ M*L}{t^2}$ |Energy/work/Heat       |$\\frac{M*L^2}{t^2}$|\n",
    "|Power      |$\\frac{M*L^2}{t^3}$|Pressure               |$\\frac{M}{L*t^2} $ |\n",
    "|Density    |$\\frac{M}{L^3}$    |Viscosity              |$\\frac{M}{L*t} $   |\n",
    "|Diffusivity|$\\frac{L^2}{s} $   |Thermal Conductivity   |$\\frac{M*L}{t^3*T}$|\n",
    "|Specific Heat Capacity| $ \\frac{L^2}{t^2*T} $  | Specific Enthalpy| $ \\frac{L^2}{t^2} $|\n",
    "|Specific Gibbs Energy| $ \\frac{L^2}{t^2} $ | Specific Energy| $ \\frac{L^2}{t^2*T} $|"
   ]
  },
  {
   "cell_type": "markdown",
   "metadata": {},
   "source": [
    "### SI (kg-m-s) System"
   ]
  },
  {
   "cell_type": "markdown",
   "metadata": {},
   "source": [
    "This is the most commonly-used system of units in the world, and is based heavily on factors of 10. It was originally based on the properties of water, though currently there are more precise standards in place. The major dimensions are:"
   ]
  },
  {
   "cell_type": "markdown",
   "metadata": {},
   "source": [
    "| Dimension name | SI unit | SI abbreviation|\n",
    "|----------------|---------|----------------|\n",
    "| Length | meter | m|\n",
    "| Time | second | s|\n",
    "| Mass | kilogram | kg |\n",
    "| Temperature | kelvin | K|\n",
    "| Electric Current | ampere | A|\n",
    "| Amount of substance | mole | mol|\n",
    "Note that the kilogram, not the gram, is a base unit."
   ]
  },
  {
   "cell_type": "markdown",
   "metadata": {},
   "source": [
    "The close relationship to water is that one m3 of water weighs (approximately) 1000 kg.\n",
    "\n",
    "A base unit that can be difficult to understand is the mole. A mole represents 6.022*1023 particles of any substance. (The number is known as Avogadro's Number, or the Avogadro constant.) This usually means the number of atoms or molecules of an element or compound. Chemical engineers commonly use kilomoles. The relative molecular mass (= molecular weight) of water H2O is about 18, being made up of 2 H atoms (atomic mass = 1) and one O atom (atomic mass = 16). Thus 18 kilograms of water constitute 1 kilomole of H2O and contain 2 kilomoles of H atoms and 1 kilomole of O atoms.\n",
    "\n",
    "Each of these base units can be made smaller or larger in units of ten by adding the appropriate **metric prefixes**. The specific meanings are (from the SI page on Wikipedia):"
   ]
  },
  {
   "cell_type": "markdown",
   "metadata": {},
   "source": [
    "<table class=\"wikitable\" style=\"margin:1em auto 1em auto\">\n",
    "<tbody><tr>\n",
    "<th colspan=\"11\" style=\"text-align:center;\">SI Prefixes\n",
    "</th></tr>\n",
    "<tr align=\"center\">\n",
    "<th>Name\n",
    "</th>\n",
    "<td>yotta\n",
    "</td>\n",
    "<td>zetta\n",
    "</td>\n",
    "<td>exa\n",
    "</td>\n",
    "<td>peta\n",
    "</td>\n",
    "<td>tera\n",
    "</td>\n",
    "<td>giga\n",
    "</td>\n",
    "<td>mega\n",
    "</td>\n",
    "<td>kilo\n",
    "</td>\n",
    "<td>hecto\n",
    "</td>\n",
    "<td>deca\n",
    "</td></tr>\n",
    "<tr style=\"text-align:center;\">\n",
    "<th>Symbol\n",
    "</th>\n",
    "<td>Y\n",
    "</td>\n",
    "<td>Z\n",
    "</td>\n",
    "<td>E\n",
    "</td>\n",
    "<td>P\n",
    "</td>\n",
    "<td>T\n",
    "</td>\n",
    "<td>G\n",
    "</td>\n",
    "<td>M\n",
    "</td>\n",
    "<td>k\n",
    "</td>\n",
    "<td>h\n",
    "</td>\n",
    "<td>da\n",
    "</td></tr>\n",
    "<tr>\n",
    "<th>Factor\n",
    "</th>\n",
    "<td>10<sup>24</sup>\n",
    "</td>\n",
    "<td>10<sup>21</sup>\n",
    "</td>\n",
    "<td>10<sup>18</sup>\n",
    "</td>\n",
    "<td>10<sup>15</sup>\n",
    "</td>\n",
    "<td>10<sup>12</sup>\n",
    "</td>\n",
    "<td>10<sup>9</sup>\n",
    "</td>\n",
    "<td>10<sup>6</sup>\n",
    "</td>\n",
    "<td>10<sup>3</sup>\n",
    "</td>\n",
    "<td>10<sup>2</sup>\n",
    "</td>\n",
    "<td>10<sup>1</sup>\n",
    "</td></tr>\n",
    "<tr style=\"border-top: 2px solid #000; text-align:center;\">\n",
    "<th>Name\n",
    "</th>\n",
    "<td>deci\n",
    "</td>\n",
    "<td>centi\n",
    "</td>\n",
    "<td>milli\n",
    "</td>\n",
    "<td>micro\n",
    "</td>\n",
    "<td>nano\n",
    "</td>\n",
    "<td>pico\n",
    "</td>\n",
    "<td>femto\n",
    "</td>\n",
    "<td>atto\n",
    "</td>\n",
    "<td>zepto\n",
    "</td>\n",
    "<td>yocto\n",
    "</td></tr>\n",
    "<tr style=\"text-align:center;\">\n",
    "<th>Symbol\n",
    "</th>\n",
    "<td>d\n",
    "</td>\n",
    "<td>c\n",
    "</td>\n",
    "<td>m\n",
    "</td>\n",
    "<td>µ\n",
    "</td>\n",
    "<td>n\n",
    "</td>\n",
    "<td>p\n",
    "</td>\n",
    "<td>f\n",
    "</td>\n",
    "<td>a\n",
    "</td>\n",
    "<td>z\n",
    "</td>\n",
    "<td>y\n",
    "</td></tr>\n",
    "<tr>\n",
    "<th>Factor\n",
    "</th>\n",
    "<td>10<sup>-1</sup>\n",
    "</td>\n",
    "<td>10<sup>-2</sup>\n",
    "</td>\n",
    "<td>10<sup>-3</sup>\n",
    "</td>\n",
    "<td>10<sup>-6</sup>\n",
    "</td>\n",
    "<td>10<sup>-9</sup>\n",
    "</td>\n",
    "<td>10<sup>-12</sup>\n",
    "</td>\n",
    "<td>10<sup>-15</sup>\n",
    "</td>\n",
    "<td>10<sup>-18</sup>\n",
    "</td>\n",
    "<td>10<sup>-21</sup>\n",
    "</td>\n",
    "<td>10<sup>-24</sup>\n",
    "</td></tr></tbody></table>"
   ]
  },
  {
   "cell_type": "markdown",
   "metadata": {},
   "source": [
    "If you see a length of 1 km, according to the chart, the prefix \"k\" means there are 103 of something, and the following \"m\" means that it is meters. So 1 km = 103 meters. There should always be a space between the number and the unit and between different units which are multiplied together. There must not be a space between the multiplier and the unit. Thus 13 mA means 13 milliamps, but 13 m A means 13 meter-amps."
   ]
  },
  {
   "cell_type": "markdown",
   "metadata": {},
   "source": [
    "As noted above, the kilogram is a base unit, but the multipliers are added to the gram. 1000 kg = 1 Mg; 0.001 kg = 1 g."
   ]
  },
  {
   "cell_type": "markdown",
   "metadata": {},
   "source": [
    "In chemical engineering practice, we tend not to use the very large or small ends of the table, but you should know at least as large as mega (M), and as small as nano (n). The relationship between different sizes of metric units was deliberately made simple because you will have to do it all of the time. You may feel uncomfortable with it at first if you're from the U.S. but trust me, after working with the English system you'll learn to appreciate the simplicity of the Metric system."
   ]
  },
  {
   "cell_type": "markdown",
   "metadata": {},
   "source": [
    "### Derived units in the SI system"
   ]
  },
  {
   "cell_type": "markdown",
   "metadata": {},
   "source": [
    "Imagine if every time you calculated a pressure, you would have to write the units in kg/(m s2). This would become cumbersome quickly, so the SI people set up **derived units** to use as shorthand for such combinations as these. Note that units named after a person do not start with a capital letter, but the abbreviation does! For example \"a force of one newton\" and \" a force of 1.0 N\". The most common ones used by chemical engineers are as follows:"
   ]
  },
  {
   "cell_type": "markdown",
   "metadata": {},
   "source": [
    "|property name|Long SI Units|SI Name| SI Abbreviation|Equivalencies|\n",
    "|-------------|-------------|-------|----------------|-------------|\n",
    "|Force|\n",
    "|Engery|\n",
    "|Power|\n",
    "|Pressure|"
   ]
  },
  {
   "cell_type": "markdown",
   "metadata": {},
   "source": [
    "### Allowed units in the SI system"
   ]
  },
  {
   "cell_type": "markdown",
   "metadata": {},
   "source": [
    "Some units are not simply derived from the base units or regular multiples, but are in common use and are therefore permitted. Thus, though periods of time can be expressed in kiloseconds or megaseconds, we are allowed to use minutes, hours and days. The term 'liter' (US) or 'litre' (European) is understood to be the same as 1 x 10-3 m3, and the term tonne (not ton) is understood to be the same as 1000 kg. The bar is a unit of pressure meaning 100 kPa, which is very close to the chemists' standard atmosphere (which is 101.325 kPa). The Celsius scale of temperature is understood to be the number of kelvin above 273.15 K. Thus we are allowed to write \"the chemical reactor has a throughput of 4.3 tonnes per day at 5 bar and 200 °C\" and we will be understood. However, it may be necessary to change to base or derived units in order to carry out calculations."
   ]
  },
  {
   "cell_type": "markdown",
   "metadata": {},
   "source": [
    "### cgs (cm-g-s) system"
   ]
  },
  {
   "cell_type": "markdown",
   "metadata": {},
   "source": [
    "This was the first metric system and may be found old publications (before 1960). There is no reason why a chemical engineer should work in it today, but you may have to convert data from old books. The base units of length and mass were the centimeter and gram. The unit of force was a dyne; the unit of energy was an erg. The value of g, the standard acceleration due to gravity was 981 cm/s/s. The viscosity units poise (especially centipoise, cP) and stokes (especially centistokes cSt) are a hangover from this system and may be found in relatively recent publications. You should convert them to SI."
   ]
  },
  {
   "cell_type": "markdown",
   "metadata": {},
   "source": [
    "Note that chemists often work with grams and cubic centimeters, but these are part of SI. Just because you work with cm, g, and s, does not mean you are using the cgs system. See w:cgs if you really want to know."
   ]
  },
  {
   "cell_type": "markdown",
   "metadata": {},
   "source": [
    "### British, Imperial or American (gravitational) system"
   ]
  },
  {
   "cell_type": "markdown",
   "metadata": {},
   "source": [
    "This system was established with the authority of the British Empire. It is known in Britain as the Imperial system, in America as the British (sometimes English) system, and in much of the world as the American system, since the USA is the only major market for chemical engineering which uses it. The engineering version uses a subset of this traditional or customary measure plus the pound force and the ampere."
   ]
  },
  {
   "cell_type": "markdown",
   "metadata": {},
   "source": [
    "Its peculiarity lies in the relationship between force and mass. According to Isaac Newton for a fixed mass accelerating under the influence of a force:"
   ]
  },
  {
   "cell_type": "markdown",
   "metadata": {},
   "source": [
    "$$force = mass * acceleration$$ or$$ f = m a $$"
   ]
  },
  {
   "cell_type": "markdown",
   "metadata": {},
   "source": [
    "In the SI system a force of 1 newton acting on a mass of 1 kilogram produces an acceleration of 1 meter per second. Simple!"
   ]
  },
  {
   "cell_type": "markdown",
   "metadata": {},
   "source": [
    "In the Imperial system a force of 1 pound-force acting on a mass of 1 pound produces an acceleration of 32 feet per second. This is because this is the natural acceleration under gravity. Older American books often include a g in the formula which do not appear in European versions of the same equation. The g represents the relationship between force and mass in the unit system (which is 1 in SI): here it is 32. For a while, American (mainly) engineers used a version of the metric system including the kilogram-force and thus g, which had the value 9.81. Physicists call these both gravitational systems."
   ]
  },
  {
   "cell_type": "markdown",
   "metadata": {},
   "source": [
    "The common units are based on traditional measures which were practical in agriculture and shipping, and do not go in steps of 10, 100, 1000 etc. Instead of using prefixes you use names for larger units, and can use combinations of units for the same dimension, e.g. 6 yards 2 feet and 8 and a quarter inches ( 6 yd 2 ft 8¼ in) However, engineers tend to use one unit and a decimal, e.g. 20.7 ft, e.g. 13.47 in. The foot can also be denoted by a single mark and the inch by a double mark, e.g. 4 feet 7 inches was 4' 7\". Note that the US gallon is smaller than the Imperial gallon (5/6 in fact), when you are doing conversions to SI."
   ]
  },
  {
   "cell_type": "markdown",
   "metadata": {},
   "source": [
    "The temperature scale is that of Fahrenheit, in which the melting point of ice is 32 °F. Absolute zero is -459.67 °F. For thermodynamic temperatures, the number of degrees Fahrenheit above absolute zero is the Rankine scale. Thus the melting point of ice is 459.67 °R."
   ]
  },
  {
   "cell_type": "markdown",
   "metadata": {},
   "source": [
    "The following are common units in this system."
   ]
  },
  {
   "cell_type": "markdown",
   "metadata": {},
   "source": []
  },
  {
   "cell_type": "markdown",
   "metadata": {},
   "source": [
    "A common derived unit is the pound(-force) per square inch, or psi. Note that psig or psi(g) means psi above atmospheric pressure. Energy is measured in British Thermal Units, generally BTU, sometimes B.Th U. Power is horsepower, hp."
   ]
  },
  {
   "cell_type": "markdown",
   "metadata": {},
   "source": [
    "### \"Parts-per\" notation"
   ]
  },
  {
   "cell_type": "markdown",
   "metadata": {},
   "source": [
    "The \"parts-per\" notation is a unit that deals with very small traces of species within a mixture of gases or liquids. Parts-per million (ppm) and parts-per billion (ppb), as well as parts-per trillion (ppt) (American definition of trillion 1012), refer to mass or mole ratios and communicate how many parts of the species are present-per million, billion, or trillion parts of the mixture. Generally mass ratios are used when dealing with liquids and mole ratios are used when dealing with gases, though either kind of ratio can be used for whichever phase a chemical is in (ratios are discussed in a later chapter)."
   ]
  },
  {
   "cell_type": "markdown",
   "metadata": {},
   "source": [
    "#### Example:"
   ]
  },
  {
   "cell_type": "markdown",
   "metadata": {},
   "source": [
    "Let's say the air around us contains 20 ppm He (Helium).\n",
    "\n",
    "This means that, if one assumes that a molar basis is being used, for every **million** moles of air there are 20 moles of Helium. If the example was in terms of ppb, this would mean that for every **billion** moles of air there are 20 moles of Helium."
   ]
  },
  {
   "cell_type": "markdown",
   "metadata": {},
   "source": [
    "### A Word About Conversions"
   ]
  },
  {
   "cell_type": "markdown",
   "metadata": {},
   "source": [
    "It is generally safe to convert all data into SI then work your calculations out in that system, converting back if necessary at the end. If you are skilled enough in the American system, you may be able to carry some calculations within that system. It is best to consult a conversion table or program for the necessary changes and especially important to keep good track of the units."
   ]
  },
  {
   "cell_type": "markdown",
   "metadata": {},
   "source": [
    "However, do not make the mistake of just writing down the numbers you get from the calculator or program."
   ]
  },
  {
   "cell_type": "markdown",
   "metadata": {},
   "source": [
    "For example, if you have a pressure drop in a pipe of 16 psi, and the conversion factor 1 psi = 6.895 kPa, your calculator will give 16 x 6.895 = 110.32. However, your answer should be 110 kPa because your starting value was only given to a precision of two figures. The conversion factor cannot add accuracy!"
   ]
  },
  {
   "cell_type": "markdown",
   "metadata": {},
   "source": [
    "*If every value is written in terms of the same base units, and the equation that is used is correct, then the units of the answer will be consistent and in terms of the same base units.*"
   ]
  },
  {
   "cell_type": "markdown",
   "metadata": {},
   "source": [
    "### How to convert between units"
   ]
  },
  {
   "cell_type": "markdown",
   "metadata": {},
   "source": [
    "#### Finding equivalences"
   ]
  },
  {
   "cell_type": "markdown",
   "metadata": {},
   "source": [
    "The first thing you need in order to convert between units is the equivalence between the units you want and the units you have. To do this use a **conversion table**. See w:Conversion of units for a fairly extensive (but not exhaustive) list of common units and their equivalences."
   ]
  },
  {
   "cell_type": "markdown",
   "metadata": {},
   "source": [
    "Conversions within the metric system usually are not listed, because it is assumed that one can use the prefixes and the fact that $1\\hspace{.1cm}mL=1\\hspace{.1cm}cm^3$ to convert anything that is desired."
   ]
  },
  {
   "cell_type": "markdown",
   "metadata": {},
   "source": [
    "Conversions within the English system and especially between the English and metric system are sometimes (but not on Wikipedia) written in the form:"
   ]
  },
  {
   "cell_type": "markdown",
   "metadata": {},
   "source": [
    "Wikipedia) written in the form:\n",
    "\n",
    "$$1(unit1)=(number)(unit2)=(number)(unit3)=....$$\n",
    "\n",
    "For example, you might recall the following conversion from chemistry class:\n",
    "\n",
    " $$1\\hspace{.1cm}atm=760\\hspace{.1cm}mmHg=1.013*10^{5}\\hspace{.1cm}Pa=1.013\\hspace{.1cm}bar=....$$\n",
    "\n",
    "The table on Wikipedia takes a slightly different approach: the column on the far left side is the unit we have 1 of, the middle is the definition of the unit on the left, and on the far right-hand column we have the metric equivalent. One listing is the conversion from feet to meters:\n",
    "\n",
    "$$\\mbox{foot (International) ft}=\\frac{1}{3}\\hspace{.1cm}yd=0.3048\\hspace{.1cm}m$$\n",
    "Both methods are common and one should be able to use either to look up conversions."
   ]
  },
  {
   "cell_type": "markdown",
   "metadata": {},
   "source": [
    "#### Using the equivalences"
   ]
  },
  {
   "cell_type": "markdown",
   "metadata": {},
   "source": [
    "Once the equivalences are determined, use the general form:"
   ]
  },
  {
   "cell_type": "markdown",
   "metadata": {},
   "source": [
    "$$\\mbox{What you want} = \\mbox{What you have}\\times\\frac{\\mbox{What you want}}{\\mbox{What you have}}$$"
   ]
  },
  {
   "cell_type": "markdown",
   "metadata": {},
   "source": [
    "The fraction on the right comes directly from the conversion tables."
   ]
  },
  {
   "cell_type": "markdown",
   "metadata": {},
   "source": [
    "#### Example:"
   ]
  },
  {
   "cell_type": "markdown",
   "metadata": {},
   "source": [
    "Convert 800 mmHg into bars?"
   ]
  },
  {
   "cell_type": "markdown",
   "metadata": {},
   "source": [
    "#### Solution"
   ]
  },
  {
   "cell_type": "markdown",
   "metadata": {},
   "source": [
    " If you wanted to convert 800 mmHg to bars, using the horizontal list, you could do it directly:"
   ]
  },
  {
   "cell_type": "markdown",
   "metadata": {},
   "source": [
    "$$\\mbox{pressure in bar}=800\\mbox{ mmHg}\\times\\frac{1.013\\mbox{ bar}}{760\\mbox{ mmHg}}=1.066\\mbox{ bar}$$"
   ]
  },
  {
   "cell_type": "markdown",
   "metadata": {},
   "source": [
    "Using the tables from Wikipedia, you need to convert to an intermediate (the metric unit) and then convert from the intermediate to the desired unit. We would find that"
   ]
  },
  {
   "cell_type": "markdown",
   "metadata": {},
   "source": [
    "$$1\\mbox{ mmHg}=133.332\\mbox{ Pa and }1\\mbox{ bar}=10^{5}\\mbox{ Pa}$$"
   ]
  },
  {
   "cell_type": "markdown",
   "metadata": {},
   "source": [
    "Again, we have to set it up using the same general form, just we have to do it twice:"
   ]
  },
  {
   "cell_type": "markdown",
   "metadata": {},
   "source": [
    "$$\\mbox{pressure in bar}=800\\mbox{ mmHg}\\times\\frac{133.322\\mbox{Pa}}{1\\mbox{ mmHg}}\\times\\frac{1\\mbox{bar}}{10^5\\mbox{ Pa}}=1.066\\mbox{ bar}$$"
   ]
  },
  {
   "cell_type": "markdown",
   "metadata": {},
   "source": [
    "Setting these up takes practice, there will be some examples at the end of the section on this. It's a very important skill for any engineer."
   ]
  },
  {
   "cell_type": "markdown",
   "metadata": {},
   "source": [
    "One way to keep from avoiding \"doing it backwards\" is to write everything out and make sure your units cancel out as they should! If you try to do it backwards you'll end up with something like this:"
   ]
  },
  {
   "cell_type": "markdown",
   "metadata": {},
   "source": [
    "$$\\mbox{pressure in bar}=800\\mbox{ mmHg}\\times\\frac{760\\mbox{ mmHg}}{1.013\\mbox{ bar}}=6.0\\times10^5\\frac{\\mbox{mmHg}^2}{\\mbox{ bar}}$$"
   ]
  },
  {
   "cell_type": "markdown",
   "metadata": {},
   "source": [
    "If you write everything (even conversions within the metric system!) out, and make sure that everything cancels, you'll help mitigate unit-changing errors. About 30-40% of all mistakes I've seen have been unit-related, which is why there is such a long section in here about it. Remember them well."
   ]
  },
  {
   "cell_type": "markdown",
   "metadata": {},
   "source": [
    "### Dimensional analysis as a check on equations"
   ]
  },
  {
   "cell_type": "markdown",
   "metadata": {},
   "source": [
    "Since we know what the units of velocity, pressure, energy, force, and so on should be in terms of the base units L, M, t, T, and E, we can use this knowledge to check the feasibility of equations that involve these quantities."
   ]
  },
  {
   "cell_type": "markdown",
   "metadata": {},
   "source": [
    "#### Example:"
   ]
  },
  {
   "cell_type": "markdown",
   "metadata": {},
   "source": [
    "Analyze the following equation for dimensional consistency: $P=g*h$ where g is the gravitational acceleration and h is the height of the fluid"
   ]
  },
  {
   "cell_type": "markdown",
   "metadata": {},
   "source": [
    "#### Solution:"
   ]
  },
  {
   "cell_type": "markdown",
   "metadata": {},
   "source": [
    "We could check this equation by plugging in our units:"
   ]
  },
  {
   "cell_type": "markdown",
   "metadata": {},
   "source": [
    "$$P=\\frac{M}{L * t^2}\\mbox{ , }h=L\\mbox{ , }g=\\frac{L}{t^2}$$"
   ]
  },
  {
   "cell_type": "markdown",
   "metadata": {},
   "source": [
    "$$ g* h = \\frac{L^2}{t^2}\\neq\\frac{M}{L \\times t^2}$$"
   ]
  },
  {
   "cell_type": "markdown",
   "metadata": {},
   "source": [
    "Since g*h doesn't have the same units as P, the equation must be wrong regardless of the system of units we are using! The correct equation, in fact, is:"
   ]
  },
  {
   "cell_type": "markdown",
   "metadata": {},
   "source": [
    "$$ P=\\rho * g* h$$"
   ]
  },
  {
   "cell_type": "markdown",
   "metadata": {},
   "source": [
    "where $\\rho$ is the density of the fluid. Density has base units of $\\frac{M}{L^{3}}$ so"
   ]
  },
  {
   "cell_type": "markdown",
   "metadata": {},
   "source": [
    "$$ P=\\rho * g* h = \\frac{M}{L^3}*\\frac{L^2}{t^2}=\\frac{M}{L*t^2}\\hspace{ 1cm } \\mbox{  which is the unit of pressure}$$"
   ]
  },
  {
   "cell_type": "markdown",
   "metadata": {},
   "source": [
    "This does not tell us the equation is correct but it does tell us that the units are consistent, which is necessary though not sufficient to obtain a correct equation. This is a useful way to detect algebraic mistakes that would otherwise be hard to find. The ability to do this with an algebraic equation is a good argument against plugging in numbers too soon!"
   ]
  },
  {
   "cell_type": "markdown",
   "metadata": {},
   "source": [
    "You may well be forced to do dimensional analysis in chemical engineering classes or if you do research. For much of the rest of the time, you will probably find it easier to check the units, particularly if you are using the SI system. In the above example, you think:"
   ]
  },
  {
   "cell_type": "markdown",
   "metadata": {},
   "source": [
    "* Pressure = force / area\n",
    "* Force = mass x acceleration\n",
    "* Pressure = mass x acceleration / area"
   ]
  },
  {
   "cell_type": "markdown",
   "metadata": {},
   "source": [
    "So 1 pascal (unit of pressure) = 1 $kg * (m/ s^2) / m^2$ = 1 $kg/ m*s^2$"
   ]
  },
  {
   "cell_type": "markdown",
   "metadata": {},
   "source": [
    "* Now g is 9.81 $m/s^2$ and h is in meters\n",
    "* So $g*h$ is in units $m^2 /s^2$"
   ]
  },
  {
   "cell_type": "markdown",
   "metadata": {},
   "source": [
    "To make $g*h$ match pressure we need to multiply it by something having the units $kg/m^3$, which we recognise as density.\n",
    "\n",
    "Note dimensional analysis (or unit checking) does not tell you about numerical values that you might have to insert, such as 9.81 or π. Nor does it tell you if you should use the radius or the diameter of a pipe in fluid mechanics!"
   ]
  },
  {
   "cell_type": "markdown",
   "metadata": {},
   "source": []
  }
 ],
 "metadata": {
  "kernelspec": {
   "display_name": "Python 3",
   "language": "python",
   "name": "python3"
  },
  "language_info": {
   "codemirror_mode": {
    "name": "ipython",
    "version": 3
   },
   "file_extension": ".py",
   "mimetype": "text/x-python",
   "name": "python",
   "nbconvert_exporter": "python",
   "pygments_lexer": "ipython3",
   "version": "3.6.5"
  }
 },
 "nbformat": 4,
 "nbformat_minor": 2
}
